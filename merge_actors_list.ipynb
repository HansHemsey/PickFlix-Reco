{
 "cells": [
  {
   "cell_type": "code",
   "execution_count": 1,
   "id": "21f1dc4d",
   "metadata": {},
   "outputs": [],
   "source": [
    "import pandas as pd"
   ]
  },
  {
   "cell_type": "code",
   "execution_count": 2,
   "id": "c39e8c19",
   "metadata": {},
   "outputs": [],
   "source": [
    "# Chargement des fichiers\n",
    "tmdb_df = pd.read_csv(\"datasets_tmdb_10kmovies.csv\")  # contient imdb_id\n",
    "principals_df = pd.read_csv(\"title.principals.tsv\", sep='\\t', na_values='\\\\N')\n",
    "name_basics_df = pd.read_csv(\"name.basics.tsv\", sep='\\t', na_values='\\\\N')\n"
   ]
  },
  {
   "cell_type": "code",
   "execution_count": 3,
   "id": "87aa39fa",
   "metadata": {},
   "outputs": [],
   "source": [
    "# filtrer les acteurs dans principals\n",
    "principals_df = principals_df[principals_df['category'].isin(['actor', 'actress'])]"
   ]
  },
  {
   "cell_type": "code",
   "execution_count": 4,
   "id": "eca6ac67",
   "metadata": {},
   "outputs": [],
   "source": [
    "# joindre principals avec name_basics pour récupérer les noms\n",
    "merged_df = principals_df.merge(name_basics_df[['nconst', 'primaryName']], on='nconst', how='left')"
   ]
  },
  {
   "cell_type": "code",
   "execution_count": 5,
   "id": "ffe6eb48",
   "metadata": {},
   "outputs": [],
   "source": [
    "# garder que les films présents dans tmdb\n",
    "merged_df = merged_df[merged_df['tconst'].isin(tmdb_df['imdb_id'])]"
   ]
  },
  {
   "cell_type": "code",
   "execution_count": 6,
   "id": "a9fa67a3",
   "metadata": {},
   "outputs": [],
   "source": [
    "# grouper les noms d’acteurs par film\n",
    "actors_by_film = merged_df.groupby('tconst')['primaryName'].apply(list).reset_index()"
   ]
  },
  {
   "cell_type": "code",
   "execution_count": 7,
   "id": "288ea63a",
   "metadata": {},
   "outputs": [],
   "source": [
    "# renommer tconst en imdb_id pour join final\n",
    "actors_by_film = actors_by_film.rename(columns={'tconst': 'imdb_id'})"
   ]
  },
  {
   "cell_type": "code",
   "execution_count": 8,
   "id": "2384b7ae",
   "metadata": {},
   "outputs": [],
   "source": [
    "# merge final\n",
    "final_df = tmdb_df.merge(actors_by_film, on='imdb_id', how='left')"
   ]
  },
  {
   "cell_type": "code",
   "execution_count": 9,
   "id": "5ab154a0",
   "metadata": {},
   "outputs": [],
   "source": [
    "# renommer la colonne\n",
    "final_df = final_df.rename(columns={'primaryName': 'actors'})"
   ]
  },
  {
   "cell_type": "code",
   "execution_count": 10,
   "id": "a6b40395",
   "metadata": {},
   "outputs": [],
   "source": [
    "# suppression des colonnes inutiles\n",
    "final_df.drop(columns=['Unnamed: 0', 'budget','backdrop_path','adult', 'homepage', 'original_language', 'original_title','revenue','spoken_languages','status','tagline','video','production_companies_name','production_companies_country'], inplace=True)"
   ]
  },
  {
   "cell_type": "code",
   "execution_count": 11,
   "id": "c5ffde74",
   "metadata": {},
   "outputs": [],
   "source": [
    "# suppression des lignes avec des valeurs manquantes\n",
    "final_df_cleaned = final_df.dropna()"
   ]
  },
  {
   "cell_type": "code",
   "execution_count": 12,
   "id": "5063b00b",
   "metadata": {},
   "outputs": [
    {
     "name": "stderr",
     "output_type": "stream",
     "text": [
      "C:\\Users\\Nitropc\\AppData\\Local\\Temp\\ipykernel_37920\\805985580.py:3: SettingWithCopyWarning: \n",
      "A value is trying to be set on a copy of a slice from a DataFrame.\n",
      "Try using .loc[row_indexer,col_indexer] = value instead\n",
      "\n",
      "See the caveats in the documentation: https://pandas.pydata.org/pandas-docs/stable/user_guide/indexing.html#returning-a-view-versus-a-copy\n",
      "  final_df_cleaned['release_date'] = pd.to_datetime(final_df_cleaned['release_date'])\n",
      "C:\\Users\\Nitropc\\AppData\\Local\\Temp\\ipykernel_37920\\805985580.py:5: SettingWithCopyWarning: \n",
      "A value is trying to be set on a copy of a slice from a DataFrame.\n",
      "Try using .loc[row_indexer,col_indexer] = value instead\n",
      "\n",
      "See the caveats in the documentation: https://pandas.pydata.org/pandas-docs/stable/user_guide/indexing.html#returning-a-view-versus-a-copy\n",
      "  final_df_cleaned['release_year'] = final_df_cleaned['release_date'].dt.year\n"
     ]
    }
   ],
   "source": [
    "# on garde uniquement l'année de sortie et non pas la date exacte\n",
    "\n",
    "final_df_cleaned['release_date'] = pd.to_datetime(final_df_cleaned['release_date'])\n",
    "\n",
    "final_df_cleaned['release_year'] = final_df_cleaned['release_date'].dt.year\n",
    "\n",
    "final_df_cleaned = final_df_cleaned.drop(columns=['release_date'])"
   ]
  },
  {
   "cell_type": "code",
   "execution_count": 13,
   "id": "0e3b9c5c",
   "metadata": {},
   "outputs": [],
   "source": [
    "# réordonner les colonnes\n",
    "colonnes = [\n",
    "    'title',\n",
    "    'release_year',\n",
    "    'genres',\n",
    "    'runtime',\n",
    "    'production_countries',\n",
    "    'actors',\n",
    "    'vote_average',\n",
    "    'vote_count',\n",
    "    'popularity',\n",
    "    'poster_path',\n",
    "    'imdb_id',\n",
    "    'overview',\n",
    "    'id'\n",
    "]\n",
    "\n",
    "final_df_cleaned = final_df_cleaned[colonnes]\n"
   ]
  },
  {
   "cell_type": "code",
   "execution_count": 14,
   "id": "40bb1e72",
   "metadata": {},
   "outputs": [
    {
     "name": "stdout",
     "output_type": "stream",
     "text": [
      "<class 'pandas.core.frame.DataFrame'>\n",
      "Index: 8910 entries, 0 to 10020\n",
      "Data columns (total 13 columns):\n",
      " #   Column                Non-Null Count  Dtype  \n",
      "---  ------                --------------  -----  \n",
      " 0   title                 8910 non-null   object \n",
      " 1   release_year          8910 non-null   int32  \n",
      " 2   genres                8910 non-null   object \n",
      " 3   runtime               8910 non-null   int64  \n",
      " 4   production_countries  8910 non-null   object \n",
      " 5   actors                8910 non-null   object \n",
      " 6   vote_average          8910 non-null   float64\n",
      " 7   vote_count            8910 non-null   int64  \n",
      " 8   popularity            8910 non-null   float64\n",
      " 9   poster_path           8910 non-null   object \n",
      " 10  imdb_id               8910 non-null   object \n",
      " 11  overview              8910 non-null   object \n",
      " 12  id                    8910 non-null   int64  \n",
      "dtypes: float64(2), int32(1), int64(3), object(7)\n",
      "memory usage: 939.7+ KB\n"
     ]
    }
   ],
   "source": [
    "final_df_cleaned.info()"
   ]
  },
  {
   "cell_type": "code",
   "execution_count": 15,
   "id": "6ff4fee8",
   "metadata": {},
   "outputs": [
    {
     "data": {
      "text/html": [
       "<div>\n",
       "<style scoped>\n",
       "    .dataframe tbody tr th:only-of-type {\n",
       "        vertical-align: middle;\n",
       "    }\n",
       "\n",
       "    .dataframe tbody tr th {\n",
       "        vertical-align: top;\n",
       "    }\n",
       "\n",
       "    .dataframe thead th {\n",
       "        text-align: right;\n",
       "    }\n",
       "</style>\n",
       "<table border=\"1\" class=\"dataframe\">\n",
       "  <thead>\n",
       "    <tr style=\"text-align: right;\">\n",
       "      <th></th>\n",
       "      <th>title</th>\n",
       "      <th>release_year</th>\n",
       "      <th>genres</th>\n",
       "      <th>runtime</th>\n",
       "      <th>production_countries</th>\n",
       "      <th>actors</th>\n",
       "      <th>vote_average</th>\n",
       "      <th>vote_count</th>\n",
       "      <th>popularity</th>\n",
       "      <th>poster_path</th>\n",
       "      <th>imdb_id</th>\n",
       "      <th>overview</th>\n",
       "      <th>id</th>\n",
       "    </tr>\n",
       "  </thead>\n",
       "  <tbody>\n",
       "    <tr>\n",
       "      <th>0</th>\n",
       "      <td>Blondie</td>\n",
       "      <td>1938</td>\n",
       "      <td>['Comedy']</td>\n",
       "      <td>70</td>\n",
       "      <td>['US']</td>\n",
       "      <td>[Penny Singleton, Arthur Lake, Larry Simms, Da...</td>\n",
       "      <td>7.214</td>\n",
       "      <td>7</td>\n",
       "      <td>2.852</td>\n",
       "      <td>/zBiHKhXklvTFwj4M1uEUcQGAVJ.jpg</td>\n",
       "      <td>tt0029927</td>\n",
       "      <td>Blondie and Dagwood are about to celebrate the...</td>\n",
       "      <td>3924</td>\n",
       "    </tr>\n",
       "    <tr>\n",
       "      <th>1</th>\n",
       "      <td>Judgment Night</td>\n",
       "      <td>1993</td>\n",
       "      <td>['Action', 'Crime', 'Thriller']</td>\n",
       "      <td>109</td>\n",
       "      <td>['US']</td>\n",
       "      <td>[Emilio Estevez, Cuba Gooding Jr., Denis Leary...</td>\n",
       "      <td>6.600</td>\n",
       "      <td>284</td>\n",
       "      <td>10.797</td>\n",
       "      <td>/3rvvpS9YPM5HB2f4HYiNiJVtdam.jpg</td>\n",
       "      <td>tt0107286</td>\n",
       "      <td>While racing to a boxing match, Frank, Mike, J...</td>\n",
       "      <td>6</td>\n",
       "    </tr>\n",
       "    <tr>\n",
       "      <th>2</th>\n",
       "      <td>Star Wars</td>\n",
       "      <td>1977</td>\n",
       "      <td>['Adventure', 'Action', 'Science Fiction']</td>\n",
       "      <td>121</td>\n",
       "      <td>['US']</td>\n",
       "      <td>[Mark Hamill, Harrison Ford, Carrie Fisher, Al...</td>\n",
       "      <td>8.208</td>\n",
       "      <td>18582</td>\n",
       "      <td>90.988</td>\n",
       "      <td>/6FfCtAuVAW8XJjZ7eWeLibRLWTw.jpg</td>\n",
       "      <td>tt0076759</td>\n",
       "      <td>Princess Leia is captured and held hostage by ...</td>\n",
       "      <td>11</td>\n",
       "    </tr>\n",
       "    <tr>\n",
       "      <th>3</th>\n",
       "      <td>Forrest Gump</td>\n",
       "      <td>1994</td>\n",
       "      <td>['Comedy', 'Drama', 'Romance']</td>\n",
       "      <td>142</td>\n",
       "      <td>['US']</td>\n",
       "      <td>[Tom Hanks, Robin Wright, Gary Sinise, Sally F...</td>\n",
       "      <td>8.481</td>\n",
       "      <td>24593</td>\n",
       "      <td>52.321</td>\n",
       "      <td>/arw2vcBveWOVZr6pxd9XTd1TdQa.jpg</td>\n",
       "      <td>tt0109830</td>\n",
       "      <td>A man with a low IQ has accomplished great thi...</td>\n",
       "      <td>13</td>\n",
       "    </tr>\n",
       "    <tr>\n",
       "      <th>4</th>\n",
       "      <td>The Fifth Element</td>\n",
       "      <td>1997</td>\n",
       "      <td>['Adventure', 'Fantasy', 'Action', 'Thriller',...</td>\n",
       "      <td>126</td>\n",
       "      <td>['FR', 'GB']</td>\n",
       "      <td>[Bruce Willis, Milla Jovovich, Gary Oldman, Ia...</td>\n",
       "      <td>7.524</td>\n",
       "      <td>9656</td>\n",
       "      <td>46.823</td>\n",
       "      <td>/fPtlCO1yQtnoLHOwKtWz7db6RGU.jpg</td>\n",
       "      <td>tt0119116</td>\n",
       "      <td>In 2257, a taxi driver is unintentionally give...</td>\n",
       "      <td>18</td>\n",
       "    </tr>\n",
       "  </tbody>\n",
       "</table>\n",
       "</div>"
      ],
      "text/plain": [
       "               title  release_year  \\\n",
       "0            Blondie          1938   \n",
       "1     Judgment Night          1993   \n",
       "2          Star Wars          1977   \n",
       "3       Forrest Gump          1994   \n",
       "4  The Fifth Element          1997   \n",
       "\n",
       "                                              genres  runtime  \\\n",
       "0                                         ['Comedy']       70   \n",
       "1                    ['Action', 'Crime', 'Thriller']      109   \n",
       "2         ['Adventure', 'Action', 'Science Fiction']      121   \n",
       "3                     ['Comedy', 'Drama', 'Romance']      142   \n",
       "4  ['Adventure', 'Fantasy', 'Action', 'Thriller',...      126   \n",
       "\n",
       "  production_countries                                             actors  \\\n",
       "0               ['US']  [Penny Singleton, Arthur Lake, Larry Simms, Da...   \n",
       "1               ['US']  [Emilio Estevez, Cuba Gooding Jr., Denis Leary...   \n",
       "2               ['US']  [Mark Hamill, Harrison Ford, Carrie Fisher, Al...   \n",
       "3               ['US']  [Tom Hanks, Robin Wright, Gary Sinise, Sally F...   \n",
       "4         ['FR', 'GB']  [Bruce Willis, Milla Jovovich, Gary Oldman, Ia...   \n",
       "\n",
       "   vote_average  vote_count  popularity                       poster_path  \\\n",
       "0         7.214           7       2.852   /zBiHKhXklvTFwj4M1uEUcQGAVJ.jpg   \n",
       "1         6.600         284      10.797  /3rvvpS9YPM5HB2f4HYiNiJVtdam.jpg   \n",
       "2         8.208       18582      90.988  /6FfCtAuVAW8XJjZ7eWeLibRLWTw.jpg   \n",
       "3         8.481       24593      52.321  /arw2vcBveWOVZr6pxd9XTd1TdQa.jpg   \n",
       "4         7.524        9656      46.823  /fPtlCO1yQtnoLHOwKtWz7db6RGU.jpg   \n",
       "\n",
       "     imdb_id                                           overview    id  \n",
       "0  tt0029927  Blondie and Dagwood are about to celebrate the...  3924  \n",
       "1  tt0107286  While racing to a boxing match, Frank, Mike, J...     6  \n",
       "2  tt0076759  Princess Leia is captured and held hostage by ...    11  \n",
       "3  tt0109830  A man with a low IQ has accomplished great thi...    13  \n",
       "4  tt0119116  In 2257, a taxi driver is unintentionally give...    18  "
      ]
     },
     "execution_count": 15,
     "metadata": {},
     "output_type": "execute_result"
    }
   ],
   "source": [
    "final_df_cleaned.head()"
   ]
  },
  {
   "cell_type": "code",
   "execution_count": 16,
   "id": "2ec99e98",
   "metadata": {},
   "outputs": [],
   "source": [
    "final_df_cleaned.to_csv(\"dataset_mov_act_2.csv\")"
   ]
  },
  {
   "cell_type": "code",
   "execution_count": null,
   "id": "c7b5e2e6",
   "metadata": {},
   "outputs": [],
   "source": []
  }
 ],
 "metadata": {
  "kernelspec": {
   "display_name": "base",
   "language": "python",
   "name": "python3"
  },
  "language_info": {
   "codemirror_mode": {
    "name": "ipython",
    "version": 3
   },
   "file_extension": ".py",
   "mimetype": "text/x-python",
   "name": "python",
   "nbconvert_exporter": "python",
   "pygments_lexer": "ipython3",
   "version": "3.12.7"
  }
 },
 "nbformat": 4,
 "nbformat_minor": 5
}
