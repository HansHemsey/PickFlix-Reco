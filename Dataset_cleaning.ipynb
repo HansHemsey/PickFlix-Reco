{
 "cells": [
  {
   "cell_type": "code",
   "execution_count": null,
   "id": "1a5afa0e",
   "metadata": {},
   "outputs": [],
   "source": [
    "# IMPORTS \n",
    "import pandas as pd"
   ]
  },
  {
   "cell_type": "code",
   "execution_count": null,
   "id": "449ace82",
   "metadata": {},
   "outputs": [],
   "source": [
    "# CHARGEMENT TITLE_BASICS\n",
    "title_basics = pd.read_csv('title.basics.tsv', sep='\\t', low_memory=False)"
   ]
  },
  {
   "cell_type": "code",
   "execution_count": null,
   "id": "9c605262",
   "metadata": {},
   "outputs": [],
   "source": [
    "# Filtrage titleType = movie seulement\n",
    "titlebasicsmovies = title_basics.loc[title_basics['titleType'].isin(['movie', 'tvSeries'])]\n",
    "# titlebasicsmovies['titleType'].unique() CONFIRME\n",
    "\n",
    "# Filtrage genres = sans \\N\n",
    "titlebasicsmovies1 = titlebasicsmovies.loc[titlebasicsmovies['genres'] != r'\\N']\n",
    "\n",
    "# Filtrage runtimeMinutes = sans \\N\n",
    "titlebasicsmovies2 = titlebasicsmovies1.loc[titlebasicsmovies1['runtimeMinutes'] != r'\\N']\n",
    "\n",
    "# Suppression colonnes\n",
    "titlebasicsmovies3 = titlebasicsmovies2.drop(columns = ['endYear', 'isAdult', 'originalTitle'])\n",
    "\n",
    "# Filtrage primary_title sans \\N et remplacement par le bon nom de film\n",
    "titlebasicsmovies4 = titlebasicsmovies3.loc[titlebasicsmovies3['primaryTitle'] != r'NaN']\n",
    "titlebasicsmovies4.loc[titlebasicsmovies4['primaryTitle'].isna(), 'primaryTitle'] = 'None'\n",
    "\n",
    "# Filtrage par genres\n",
    "dfa = titlebasicsmovies4[\n",
    "    titlebasicsmovies4['genres'].apply(lambda g: \n",
    "        'Comedy' in g or 'Action' in g or 'Thriller' in g)]"
   ]
  },
  {
   "cell_type": "code",
   "execution_count": null,
   "id": "92e30f58",
   "metadata": {},
   "outputs": [],
   "source": [
    "# CHARGEMENT TMDB FULL\n",
    "tmdb = pd.read_csv('tmdb_full.csv', sep=',', low_memory=False)"
   ]
  },
  {
   "cell_type": "code",
   "execution_count": null,
   "id": "ebd29cb5",
   "metadata": {},
   "outputs": [],
   "source": [
    "# MERGE de TMDB_FULL avec title_basics_Ange (Ange)\n",
    "\n",
    "df= pd.merge(dfa,\n",
    "              tmdb, \n",
    "              how= 'left',\n",
    "              left_on = 'tconst',\n",
    "              right_on = 'imdb_id')"
   ]
  },
  {
   "cell_type": "code",
   "execution_count": null,
   "id": "ce14e6c1",
   "metadata": {},
   "outputs": [],
   "source": [
    "# FILTRAGE pour enlever les lignes avec NaN ==> 75 566 rows\n",
    "df_sans_nan = df.dropna(subset=[\n",
    "    'overview',\n",
    "    'popularity',\n",
    "    'poster_path',\n",
    "    'production_countries',\n",
    "    'release_date',\n",
    "    'runtime',\n",
    "    'vote_average',\n",
    "    'vote_count',\n",
    "    'title'\n",
    "])"
   ]
  },
  {
   "cell_type": "code",
   "execution_count": null,
   "id": "97ceba8b",
   "metadata": {},
   "outputs": [],
   "source": [
    "# FILTRAGE ===> 10034 rows\n",
    "# FILTRAGE pour le statut == released\n",
    "df_sans_nan1 = df_sans_nan.loc[df_sans_nan['status'] == 'Released']\n",
    "# FILTRAGE par les 2 productions_countries appréciés\n",
    "df_sans_nan2 = df_sans_nan1[df_sans_nan1['production_countries'].apply(lambda c: 'FR' in c or 'US' in c)]\n",
    "# FILTRAGE par les films ayant plus de 6.5/10 de notes\n",
    "df_sans_nan3 = df_sans_nan2[df_sans_nan2['vote_average'] >= 6.01]"
   ]
  },
  {
   "cell_type": "code",
   "execution_count": null,
   "id": "ae838c42",
   "metadata": {},
   "outputs": [],
   "source": [
    "tmdb_df = df_sans_nan3.drop(columns=['Unnamed: 0', 'titleType', 'backdrop_path', 'adult', 'budget', 'genres_y', 'homepage', 'original_language', 'original_title', 'revenue', 'runtime', 'spoken_languages',\n",
    "                    'tagline', 'production_companies_name', 'production_companies_country', 'video', 'status', 'primaryTitle'])"
   ]
  },
  {
   "cell_type": "code",
   "execution_count": null,
   "id": "5c9bf6c3",
   "metadata": {},
   "outputs": [],
   "source": [
    "# Chargement des fichiers\n",
    "principals_df = pd.read_csv(\"title.principals.tsv\", sep='\\t', na_values='\\\\N')\n",
    "name_basics_df = pd.read_csv(\"name.basics.tsv\", sep='\\t', na_values='\\\\N')"
   ]
  },
  {
   "cell_type": "code",
   "execution_count": null,
   "id": "d1c139f4",
   "metadata": {},
   "outputs": [],
   "source": [
    "# filtrer les acteurs dans principals\n",
    "principals_df = principals_df[principals_df['category'].isin(['actor', 'actress'])]\n",
    "# filtrer le name_basics_df avec le nconst et les noms des acteurs\n",
    "df_nb = name_basics_df[['nconst', 'primaryName']]"
   ]
  },
  {
   "cell_type": "code",
   "execution_count": null,
   "id": "950cd4ce",
   "metadata": {},
   "outputs": [],
   "source": [
    "# joindre principals avec name_basics pour récupérer les noms\n",
    "merged_df = principals_df.merge(df_nb, on='nconst', how='left')\n",
    "# garder que les films présents dans tmdb\n",
    "merged_df = merged_df[merged_df['tconst'].isin(tmdb_df['imdb_id'])]"
   ]
  },
  {
   "cell_type": "code",
   "execution_count": null,
   "id": "b362afb4",
   "metadata": {},
   "outputs": [],
   "source": [
    "# grouper les noms d’acteurs par film\n",
    "actors_by_film = merged_df.groupby('tconst')['primaryName'].apply(list).reset_index()\n",
    "# renommer tconst en imdb_id pour join final\n",
    "actors_by_film = actors_by_film.rename(columns={'tconst': 'imdb_id'})\n",
    "# merge final\n",
    "final_df = tmdb_df.merge(actors_by_film, on='imdb_id', how='left')\n",
    "# renommer la colonne\n",
    "final_df = final_df.rename(columns={'primaryName': 'actors'})\n",
    "# suppression des colonnes inutiles\n",
    "final = final_df.drop(columns=['Unnamed: 0', 'id'])"
   ]
  },
  {
   "cell_type": "code",
   "execution_count": null,
   "id": "28f46f5c",
   "metadata": {},
   "outputs": [],
   "source": [
    "# réordonner les colonnes\n",
    "colonnes = [\n",
    "    'title',\n",
    "    'release_year',\n",
    "    'genres_x',\n",
    "    'runtimeMinutes',\n",
    "    'production_countries',\n",
    "    'actors',\n",
    "    'vote_average',\n",
    "    'vote_count',\n",
    "    'popularity',\n",
    "    'poster_path',\n",
    "    'imdb_id',\n",
    "    'overview',\n",
    "    'id'\n",
    "]\n",
    "\n",
    "final_cleaned = final_cleaned[colonnes]"
   ]
  },
  {
   "cell_type": "code",
   "execution_count": null,
   "id": "4e01e68f",
   "metadata": {},
   "outputs": [],
   "source": [
    "final_cleaned['overview'] = final_cleaned['overview'].str.replace(r'[\\r\\n]+', ' ', regex=True)"
   ]
  },
  {
   "cell_type": "code",
   "execution_count": null,
   "id": "ebc2c6dc",
   "metadata": {},
   "outputs": [],
   "source": [
    "# SPLITTER LA COLONNE GENRES_X\n",
    "# Séparer la colonne \"genres\" en plusieurs colonnes\n",
    "genres_split = df['genres_x'].str.split(',', expand=True)\n",
    "\n",
    "# Renommer les nouvelles colonnes si souhaité\n",
    "genres_split.columns = [f'genre_{i+1}' for i in range(genres_split.shape[1])]\n",
    "\n",
    "# Fusionner avec le DataFrame d'origine (sans la colonne \"genres\" initiale si besoin)\n",
    "df = df.drop(columns='genres_x').join(genres_split)"
   ]
  },
  {
   "cell_type": "code",
   "execution_count": null,
   "id": "ad5fa9c5",
   "metadata": {},
   "outputs": [],
   "source": [
    "# SPLITTER LA COLONNE PRODUCTION_COUNTRIES\n",
    "# Séparer la colonne \"genres\" en plusieurs colonnes\n",
    "nationality_split = df['production_countries'].str.split(',', expand=True)\n",
    "\n",
    "# Renommer les nouvelles colonnes si souhaité\n",
    "nationality_split.columns = [f'nationality_{i+1}' for i in range(nationality_split.shape[1])]\n",
    "\n",
    "# Fusionner avec le DataFrame d'origine (sans la colonne \"genres\" initiale si besoin)\n",
    "df = df.drop(columns='production_countries').join(nationality_split)"
   ]
  },
  {
   "cell_type": "code",
   "execution_count": null,
   "id": "8f8e2409",
   "metadata": {},
   "outputs": [],
   "source": [
    "df = df.drop(columns= ['nationality_4', 'nationality_5', 'nationality_6', 'nationality_7', 'nationality_8', 'nationality_9', 'nationality_10', 'nationality_11', 'nationality_12', 'nationality_13', 'nationality_14'])"
   ]
  },
  {
   "cell_type": "code",
   "execution_count": null,
   "id": "ac6c5775",
   "metadata": {},
   "outputs": [],
   "source": [
    "# SPLITTER LA COLONNE ACTORS en 5 colonnes\n",
    "\n",
    "# Retirer les crochets et découper la chaîne\n",
    "df['actors_list'] = df['actors'].str.strip(\"[]\").str.replace(\"'\", \"\").str.split(\", \")\n",
    "\n",
    "df[['actor_1', 'actor_2', 'actor_3', 'actor_4', 'actor_5']] = df['actors_list'].apply(lambda x: pd.Series(x[:5]))"
   ]
  },
  {
   "cell_type": "code",
   "execution_count": null,
   "id": "93f63d2c",
   "metadata": {},
   "outputs": [],
   "source": [
    "df.to_csv(\"dataset_final_splitted.csv\")"
   ]
  }
 ],
 "metadata": {
  "language_info": {
   "name": "python"
  }
 },
 "nbformat": 4,
 "nbformat_minor": 5
}
